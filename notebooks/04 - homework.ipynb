{
 "cells": [
  {
   "cell_type": "markdown",
   "id": "e851d7bd",
   "metadata": {},
   "source": [
    "Нужно придумать небольшую базу данных и написать к ней запросы.\n",
    "\n",
    "В базе должно быть минимум 4 таблицы и хотя бы две связи вида one-to-many или many-to-many. Можно решить как при помощи pandas, так и при помощи SQL.\n",
    "\n",
    "Запросы должны быть осмысленными и должны решать какую-то задачу.\n",
    "\n",
    "### Easy\n",
    "Выгрузить данные и отфильтровать их по какому-то значению.\n",
    "\n",
    "### Normal\n",
    "Написать запрос на объединение двух или более таблиц, также в запросе должна быть фильтрация\n",
    "\n",
    "### Hard\n",
    "Написать запрос, который посчитает какую-то сложную аналитику по БД, используя как можно больше таблиц. Построить графики и сделать выводы."
   ]
  },
  {
   "cell_type": "markdown",
   "id": "9daa9c53",
   "metadata": {},
   "source": [
    "## Easy\n",
    "\n"
   ]
  },
  {
   "cell_type": "code",
   "execution_count": null,
   "id": "53d1536b",
   "metadata": {},
   "outputs": [],
   "source": []
  },
  {
   "cell_type": "markdown",
   "id": "89977033",
   "metadata": {},
   "source": [
    "## Normal\n"
   ]
  },
  {
   "cell_type": "code",
   "execution_count": null,
   "id": "0d347bee",
   "metadata": {},
   "outputs": [],
   "source": []
  },
  {
   "cell_type": "markdown",
   "id": "6281ab84",
   "metadata": {},
   "source": [
    "## Hard"
   ]
  },
  {
   "cell_type": "code",
   "execution_count": null,
   "id": "09af2899",
   "metadata": {},
   "outputs": [],
   "source": []
  }
 ],
 "metadata": {
  "kernelspec": {
   "display_name": "Python 3 (ipykernel)",
   "language": "python",
   "name": "python3"
  },
  "language_info": {
   "codemirror_mode": {
    "name": "ipython",
    "version": 3
   },
   "file_extension": ".py",
   "mimetype": "text/x-python",
   "name": "python",
   "nbconvert_exporter": "python",
   "pygments_lexer": "ipython3",
   "version": "3.9.7"
  }
 },
 "nbformat": 4,
 "nbformat_minor": 5
}
