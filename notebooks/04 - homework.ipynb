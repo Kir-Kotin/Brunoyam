{
 "cells": [
  {
   "cell_type": "markdown",
   "id": "5655115a",
   "metadata": {},
   "source": [
    "Нужно придумать небольшую базу данных и написать к ней запросы.\n",
    "\n",
    "В базе должно быть минимум 4 таблицы и хотя бы две связи вида one-to-many или many-to-many. Можно решить как при помощи pandas, так и при помощи SQL.\n",
    "\n",
    "Запросы должны быть осмысленными и должны решать какую-то задачу.\n",
    "\n",
    "### Easy\n",
    "Выгрузить данные и отфильтровать их по какому-то значению.\n",
    "\n",
    "### Normal\n",
    "Написать запрос на объединение двух или более таблиц, также в запросе должна быть фильтрация\n",
    "\n",
    "### Hard\n",
    "Написать запрос, который посчитает какую-то сложную аналитику по БД, используя как можно больше таблиц. Построить графики и сделать выводы."
   ]
  },
  {
   "cell_type": "markdown",
   "id": "3b4b9391",
   "metadata": {},
   "source": [
    "## Easy\n",
    "\n"
   ]
  },
  {
   "cell_type": "code",
   "execution_count": 1,
   "id": "8bdc0c97",
   "metadata": {},
   "outputs": [],
   "source": [
    "import sqlite3\n",
    "import pandas as pd"
   ]
  },
  {
   "cell_type": "code",
   "execution_count": 2,
   "id": "92913f5f",
   "metadata": {},
   "outputs": [],
   "source": [
    "sql = sqlite3.connect('../data/workers.db')"
   ]
  },
  {
   "cell_type": "code",
   "execution_count": 3,
   "id": "81d49193",
   "metadata": {
    "scrolled": true
   },
   "outputs": [
    {
     "data": {
      "text/html": [
       "<div>\n",
       "<style scoped>\n",
       "    .dataframe tbody tr th:only-of-type {\n",
       "        vertical-align: middle;\n",
       "    }\n",
       "\n",
       "    .dataframe tbody tr th {\n",
       "        vertical-align: top;\n",
       "    }\n",
       "\n",
       "    .dataframe thead th {\n",
       "        text-align: right;\n",
       "    }\n",
       "</style>\n",
       "<table border=\"1\" class=\"dataframe\">\n",
       "  <thead>\n",
       "    <tr style=\"text-align: right;\">\n",
       "      <th></th>\n",
       "      <th>id</th>\n",
       "      <th>work</th>\n",
       "    </tr>\n",
       "  </thead>\n",
       "  <tbody>\n",
       "    <tr>\n",
       "      <th>0</th>\n",
       "      <td>0</td>\n",
       "      <td>Директор</td>\n",
       "    </tr>\n",
       "    <tr>\n",
       "      <th>1</th>\n",
       "      <td>1</td>\n",
       "      <td>Заместитель директора</td>\n",
       "    </tr>\n",
       "    <tr>\n",
       "      <th>2</th>\n",
       "      <td>2</td>\n",
       "      <td>Программист</td>\n",
       "    </tr>\n",
       "    <tr>\n",
       "      <th>3</th>\n",
       "      <td>3</td>\n",
       "      <td>Уборщица</td>\n",
       "    </tr>\n",
       "    <tr>\n",
       "      <th>4</th>\n",
       "      <td>4</td>\n",
       "      <td>Водитель</td>\n",
       "    </tr>\n",
       "  </tbody>\n",
       "</table>\n",
       "</div>"
      ],
      "text/plain": [
       "   id                   work\n",
       "0   0               Директор\n",
       "1   1  Заместитель директора\n",
       "2   2            Программист\n",
       "3   3               Уборщица\n",
       "4   4               Водитель"
      ]
     },
     "execution_count": 3,
     "metadata": {},
     "output_type": "execute_result"
    }
   ],
   "source": [
    "# Таблица с должностями\n",
    "work = [\"Директор\", \"Заместитель директора\", \"Программист\", \"Уборщица\", \"Водитель\"]\n",
    "work_df = pd.DataFrame({'work': work})\n",
    "work_df\n",
    "\n",
    "work_df.to_sql('work', sql, index_label=\"id\", if_exists='replace')\n",
    "pd.read_sql(\"SELECT * FROM work\", sql)\n"
   ]
  },
  {
   "cell_type": "code",
   "execution_count": 4,
   "id": "63b6733a",
   "metadata": {
    "scrolled": true
   },
   "outputs": [
    {
     "data": {
      "text/html": [
       "<div>\n",
       "<style scoped>\n",
       "    .dataframe tbody tr th:only-of-type {\n",
       "        vertical-align: middle;\n",
       "    }\n",
       "\n",
       "    .dataframe tbody tr th {\n",
       "        vertical-align: top;\n",
       "    }\n",
       "\n",
       "    .dataframe thead th {\n",
       "        text-align: right;\n",
       "    }\n",
       "</style>\n",
       "<table border=\"1\" class=\"dataframe\">\n",
       "  <thead>\n",
       "    <tr style=\"text-align: right;\">\n",
       "      <th></th>\n",
       "      <th>id</th>\n",
       "      <th>skills</th>\n",
       "    </tr>\n",
       "  </thead>\n",
       "  <tbody>\n",
       "    <tr>\n",
       "      <th>0</th>\n",
       "      <td>0</td>\n",
       "      <td>нет</td>\n",
       "    </tr>\n",
       "    <tr>\n",
       "      <th>1</th>\n",
       "      <td>1</td>\n",
       "      <td>среднее</td>\n",
       "    </tr>\n",
       "    <tr>\n",
       "      <th>2</th>\n",
       "      <td>2</td>\n",
       "      <td>среднее специальное</td>\n",
       "    </tr>\n",
       "    <tr>\n",
       "      <th>3</th>\n",
       "      <td>3</td>\n",
       "      <td>высшее</td>\n",
       "    </tr>\n",
       "    <tr>\n",
       "      <th>4</th>\n",
       "      <td>4</td>\n",
       "      <td>кандидат наук</td>\n",
       "    </tr>\n",
       "  </tbody>\n",
       "</table>\n",
       "</div>"
      ],
      "text/plain": [
       "   id               skills\n",
       "0   0                  нет\n",
       "1   1              среднее\n",
       "2   2  среднее специальное\n",
       "3   3               высшее\n",
       "4   4        кандидат наук"
      ]
     },
     "execution_count": 4,
     "metadata": {},
     "output_type": "execute_result"
    }
   ],
   "source": [
    "# Таблица с образованием\n",
    "skills = [\"нет\", \"среднее\", \"среднее специальное\", \"высшее\", \"кандидат наук\"]\n",
    "skills_df = pd.DataFrame({'skills': skills})\n",
    "\n",
    "skills_df.to_sql('skills', sql, index_label=\"id\", if_exists='replace')\n",
    "pd.read_sql(\"SELECT * FROM skills\", sql)"
   ]
  },
  {
   "cell_type": "code",
   "execution_count": 6,
   "id": "734045bd",
   "metadata": {},
   "outputs": [
    {
     "data": {
      "text/html": [
       "<div>\n",
       "<style scoped>\n",
       "    .dataframe tbody tr th:only-of-type {\n",
       "        vertical-align: middle;\n",
       "    }\n",
       "\n",
       "    .dataframe tbody tr th {\n",
       "        vertical-align: top;\n",
       "    }\n",
       "\n",
       "    .dataframe thead th {\n",
       "        text-align: right;\n",
       "    }\n",
       "</style>\n",
       "<table border=\"1\" class=\"dataframe\">\n",
       "  <thead>\n",
       "    <tr style=\"text-align: right;\">\n",
       "      <th></th>\n",
       "      <th>id</th>\n",
       "      <th>status</th>\n",
       "    </tr>\n",
       "  </thead>\n",
       "  <tbody>\n",
       "    <tr>\n",
       "      <th>0</th>\n",
       "      <td>0</td>\n",
       "      <td>женат / жената</td>\n",
       "    </tr>\n",
       "    <tr>\n",
       "      <th>1</th>\n",
       "      <td>1</td>\n",
       "      <td>разведен / разведена</td>\n",
       "    </tr>\n",
       "    <tr>\n",
       "      <th>2</th>\n",
       "      <td>2</td>\n",
       "      <td>не женат / не замужем</td>\n",
       "    </tr>\n",
       "  </tbody>\n",
       "</table>\n",
       "</div>"
      ],
      "text/plain": [
       "   id                 status\n",
       "0   0         женат / жената\n",
       "1   1   разведен / разведена\n",
       "2   2  не женат / не замужем"
      ]
     },
     "execution_count": 6,
     "metadata": {},
     "output_type": "execute_result"
    }
   ],
   "source": [
    "# Таблица с семейным положением\n",
    "status = [\"женат / жената\", \"разведен / разведена\", \"не женат / не замужем\"]\n",
    "status_df = pd.DataFrame({'status': status})\n",
    "\n",
    "status_df.to_sql('status', sql, index_label=\"id\", if_exists='replace')\n",
    "pd.read_sql(\"SELECT * FROM status\", sql)"
   ]
  },
  {
   "cell_type": "markdown",
   "id": "91b55679",
   "metadata": {},
   "source": [
    "## Normal\n"
   ]
  },
  {
   "cell_type": "code",
   "execution_count": null,
   "id": "c3319841",
   "metadata": {},
   "outputs": [],
   "source": []
  },
  {
   "cell_type": "markdown",
   "id": "bc0fffcf",
   "metadata": {},
   "source": [
    "## Hard"
   ]
  },
  {
   "cell_type": "code",
   "execution_count": null,
   "id": "66cdbfef",
   "metadata": {},
   "outputs": [],
   "source": []
  }
 ],
 "metadata": {
  "kernelspec": {
   "display_name": "Python 3 (ipykernel)",
   "language": "python",
   "name": "python3"
  },
  "language_info": {
   "codemirror_mode": {
    "name": "ipython",
    "version": 3
   },
   "file_extension": ".py",
   "mimetype": "text/x-python",
   "name": "python",
   "nbconvert_exporter": "python",
   "pygments_lexer": "ipython3",
   "version": "3.9.7"
  }
 },
 "nbformat": 4,
 "nbformat_minor": 5
}
