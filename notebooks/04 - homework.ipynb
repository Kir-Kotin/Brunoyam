{
 "cells": [
  {
   "cell_type": "markdown",
   "id": "1816e327",
   "metadata": {},
   "source": [
    "Нужно придумать небольшую базу данных и написать к ней запросы.\n",
    "\n",
    "В базе должно быть минимум 4 таблицы и хотя бы две связи вида one-to-many или many-to-many. Можно решить как при помощи pandas, так и при помощи SQL.\n",
    "\n",
    "Запросы должны быть осмысленными и должны решать какую-то задачу.\n",
    "\n",
    "### Easy\n",
    "Выгрузить данные и отфильтровать их по какому-то значению.\n",
    "\n",
    "### Normal\n",
    "Написать запрос на объединение двух или более таблиц, также в запросе должна быть фильтрация\n",
    "\n",
    "### Hard\n",
    "Написать запрос, который посчитает какую-то сложную аналитику по БД, используя как можно больше таблиц. Построить графики и сделать выводы."
   ]
  },
  {
   "cell_type": "markdown",
   "id": "c086ce19",
   "metadata": {},
   "source": [
    "## Easy\n",
    "\n"
   ]
  },
  {
   "cell_type": "code",
   "execution_count": 1,
   "id": "f643d16a",
   "metadata": {},
   "outputs": [],
   "source": [
    "import sqlite3\n",
    "import pandas as pd"
   ]
  },
  {
   "cell_type": "code",
   "execution_count": 2,
   "id": "83c851f2",
   "metadata": {},
   "outputs": [],
   "source": [
    "sql = sqlite3.connect('../data/workers.db')"
   ]
  },
  {
   "cell_type": "code",
   "execution_count": 3,
   "id": "0765fcb9",
   "metadata": {
    "scrolled": true
   },
   "outputs": [
    {
     "data": {
      "text/html": [
       "<div>\n",
       "<style scoped>\n",
       "    .dataframe tbody tr th:only-of-type {\n",
       "        vertical-align: middle;\n",
       "    }\n",
       "\n",
       "    .dataframe tbody tr th {\n",
       "        vertical-align: top;\n",
       "    }\n",
       "\n",
       "    .dataframe thead th {\n",
       "        text-align: right;\n",
       "    }\n",
       "</style>\n",
       "<table border=\"1\" class=\"dataframe\">\n",
       "  <thead>\n",
       "    <tr style=\"text-align: right;\">\n",
       "      <th></th>\n",
       "      <th>id</th>\n",
       "      <th>work</th>\n",
       "    </tr>\n",
       "  </thead>\n",
       "  <tbody>\n",
       "    <tr>\n",
       "      <th>0</th>\n",
       "      <td>0</td>\n",
       "      <td>Директор</td>\n",
       "    </tr>\n",
       "    <tr>\n",
       "      <th>1</th>\n",
       "      <td>1</td>\n",
       "      <td>Заместитель директора</td>\n",
       "    </tr>\n",
       "    <tr>\n",
       "      <th>2</th>\n",
       "      <td>2</td>\n",
       "      <td>Программист</td>\n",
       "    </tr>\n",
       "    <tr>\n",
       "      <th>3</th>\n",
       "      <td>3</td>\n",
       "      <td>Уборщица</td>\n",
       "    </tr>\n",
       "    <tr>\n",
       "      <th>4</th>\n",
       "      <td>4</td>\n",
       "      <td>Водитель</td>\n",
       "    </tr>\n",
       "  </tbody>\n",
       "</table>\n",
       "</div>"
      ],
      "text/plain": [
       "   id                   work\n",
       "0   0               Директор\n",
       "1   1  Заместитель директора\n",
       "2   2            Программист\n",
       "3   3               Уборщица\n",
       "4   4               Водитель"
      ]
     },
     "execution_count": 3,
     "metadata": {},
     "output_type": "execute_result"
    }
   ],
   "source": [
    "# Таблица с должностями\n",
    "work = [\"Директор\", \"Заместитель директора\", \"Программист\", \"Уборщица\", \"Водитель\"]\n",
    "work_df = pd.DataFrame({'work': work})\n",
    "work_df\n",
    "\n",
    "work_df.to_sql('work', sql, index_label=\"id\", if_exists='replace')\n",
    "pd.read_sql(\"SELECT * FROM work\", sql)\n"
   ]
  },
  {
   "cell_type": "code",
   "execution_count": 4,
   "id": "917beca9",
   "metadata": {
    "scrolled": true
   },
   "outputs": [
    {
     "data": {
      "text/html": [
       "<div>\n",
       "<style scoped>\n",
       "    .dataframe tbody tr th:only-of-type {\n",
       "        vertical-align: middle;\n",
       "    }\n",
       "\n",
       "    .dataframe tbody tr th {\n",
       "        vertical-align: top;\n",
       "    }\n",
       "\n",
       "    .dataframe thead th {\n",
       "        text-align: right;\n",
       "    }\n",
       "</style>\n",
       "<table border=\"1\" class=\"dataframe\">\n",
       "  <thead>\n",
       "    <tr style=\"text-align: right;\">\n",
       "      <th></th>\n",
       "      <th>id</th>\n",
       "      <th>skills</th>\n",
       "    </tr>\n",
       "  </thead>\n",
       "  <tbody>\n",
       "    <tr>\n",
       "      <th>0</th>\n",
       "      <td>0</td>\n",
       "      <td>нет</td>\n",
       "    </tr>\n",
       "    <tr>\n",
       "      <th>1</th>\n",
       "      <td>1</td>\n",
       "      <td>среднее</td>\n",
       "    </tr>\n",
       "    <tr>\n",
       "      <th>2</th>\n",
       "      <td>2</td>\n",
       "      <td>среднее специальное</td>\n",
       "    </tr>\n",
       "    <tr>\n",
       "      <th>3</th>\n",
       "      <td>3</td>\n",
       "      <td>высшее</td>\n",
       "    </tr>\n",
       "    <tr>\n",
       "      <th>4</th>\n",
       "      <td>4</td>\n",
       "      <td>кандидат наук</td>\n",
       "    </tr>\n",
       "  </tbody>\n",
       "</table>\n",
       "</div>"
      ],
      "text/plain": [
       "   id               skills\n",
       "0   0                  нет\n",
       "1   1              среднее\n",
       "2   2  среднее специальное\n",
       "3   3               высшее\n",
       "4   4        кандидат наук"
      ]
     },
     "execution_count": 4,
     "metadata": {},
     "output_type": "execute_result"
    }
   ],
   "source": [
    "# Таблица с образованием\n",
    "skills = [\"нет\", \"среднее\", \"среднее специальное\", \"высшее\", \"кандидат наук\"]\n",
    "skills_df = pd.DataFrame({'skills': skills})\n",
    "\n",
    "skills_df.to_sql('skills', sql, index_label=\"id\", if_exists='replace')\n",
    "pd.read_sql(\"SELECT * FROM skills\", sql)"
   ]
  },
  {
   "cell_type": "code",
   "execution_count": 6,
   "id": "6d2dec67",
   "metadata": {},
   "outputs": [
    {
     "data": {
      "text/html": [
       "<div>\n",
       "<style scoped>\n",
       "    .dataframe tbody tr th:only-of-type {\n",
       "        vertical-align: middle;\n",
       "    }\n",
       "\n",
       "    .dataframe tbody tr th {\n",
       "        vertical-align: top;\n",
       "    }\n",
       "\n",
       "    .dataframe thead th {\n",
       "        text-align: right;\n",
       "    }\n",
       "</style>\n",
       "<table border=\"1\" class=\"dataframe\">\n",
       "  <thead>\n",
       "    <tr style=\"text-align: right;\">\n",
       "      <th></th>\n",
       "      <th>id</th>\n",
       "      <th>status</th>\n",
       "    </tr>\n",
       "  </thead>\n",
       "  <tbody>\n",
       "    <tr>\n",
       "      <th>0</th>\n",
       "      <td>0</td>\n",
       "      <td>женат / жената</td>\n",
       "    </tr>\n",
       "    <tr>\n",
       "      <th>1</th>\n",
       "      <td>1</td>\n",
       "      <td>разведен / разведена</td>\n",
       "    </tr>\n",
       "    <tr>\n",
       "      <th>2</th>\n",
       "      <td>2</td>\n",
       "      <td>не женат / не замужем</td>\n",
       "    </tr>\n",
       "  </tbody>\n",
       "</table>\n",
       "</div>"
      ],
      "text/plain": [
       "   id                 status\n",
       "0   0         женат / жената\n",
       "1   1   разведен / разведена\n",
       "2   2  не женат / не замужем"
      ]
     },
     "execution_count": 6,
     "metadata": {},
     "output_type": "execute_result"
    }
   ],
   "source": [
    "# Таблица с семейным положением\n",
    "status = [\"женат / жената\", \"разведен / разведена\", \"не женат / не замужем\"]\n",
    "status_df = pd.DataFrame({'status': status})\n",
    "\n",
    "status_df.to_sql('status', sql, index_label=\"id\", if_exists='replace')\n",
    "pd.read_sql(\"SELECT * FROM status\", sql)"
   ]
  },
  {
   "cell_type": "code",
   "execution_count": 10,
   "id": "d801a824",
   "metadata": {},
   "outputs": [
    {
     "data": {
      "text/html": [
       "<div>\n",
       "<style scoped>\n",
       "    .dataframe tbody tr th:only-of-type {\n",
       "        vertical-align: middle;\n",
       "    }\n",
       "\n",
       "    .dataframe tbody tr th {\n",
       "        vertical-align: top;\n",
       "    }\n",
       "\n",
       "    .dataframe thead th {\n",
       "        text-align: right;\n",
       "    }\n",
       "</style>\n",
       "<table border=\"1\" class=\"dataframe\">\n",
       "  <thead>\n",
       "    <tr style=\"text-align: right;\">\n",
       "      <th></th>\n",
       "      <th>id</th>\n",
       "      <th>fio</th>\n",
       "      <th>work_id</th>\n",
       "      <th>status_id</th>\n",
       "      <th>skils_id</th>\n",
       "      <th>phone</th>\n",
       "    </tr>\n",
       "  </thead>\n",
       "  <tbody>\n",
       "    <tr>\n",
       "      <th>0</th>\n",
       "      <td>0</td>\n",
       "      <td>Мастер и Маргарита</td>\n",
       "      <td>1</td>\n",
       "      <td>1</td>\n",
       "      <td>1</td>\n",
       "      <td>#670</td>\n",
       "    </tr>\n",
       "    <tr>\n",
       "      <th>1</th>\n",
       "      <td>1</td>\n",
       "      <td>Белая гвардия</td>\n",
       "      <td>1</td>\n",
       "      <td>0</td>\n",
       "      <td>2</td>\n",
       "      <td>#540</td>\n",
       "    </tr>\n",
       "    <tr>\n",
       "      <th>2</th>\n",
       "      <td>2</td>\n",
       "      <td>Идиот</td>\n",
       "      <td>2</td>\n",
       "      <td>2</td>\n",
       "      <td>1</td>\n",
       "      <td>#460</td>\n",
       "    </tr>\n",
       "    <tr>\n",
       "      <th>3</th>\n",
       "      <td>3</td>\n",
       "      <td>Братья Карамазовы</td>\n",
       "      <td>2</td>\n",
       "      <td>2</td>\n",
       "      <td>3</td>\n",
       "      <td>#799</td>\n",
       "    </tr>\n",
       "    <tr>\n",
       "      <th>4</th>\n",
       "      <td>4</td>\n",
       "      <td>Игрок</td>\n",
       "      <td>2</td>\n",
       "      <td>1</td>\n",
       "      <td>4</td>\n",
       "      <td>#480</td>\n",
       "    </tr>\n",
       "    <tr>\n",
       "      <th>5</th>\n",
       "      <td>5</td>\n",
       "      <td>Стихотворения и поэмы</td>\n",
       "      <td>3</td>\n",
       "      <td>2</td>\n",
       "      <td>4</td>\n",
       "      <td>#650</td>\n",
       "    </tr>\n",
       "    <tr>\n",
       "      <th>6</th>\n",
       "      <td>6</td>\n",
       "      <td>Черный человек</td>\n",
       "      <td>3</td>\n",
       "      <td>2</td>\n",
       "      <td>3</td>\n",
       "      <td>#570</td>\n",
       "    </tr>\n",
       "    <tr>\n",
       "      <th>7</th>\n",
       "      <td>7</td>\n",
       "      <td>Лирика</td>\n",
       "      <td>4</td>\n",
       "      <td>2</td>\n",
       "      <td>2</td>\n",
       "      <td>#518</td>\n",
       "    </tr>\n",
       "  </tbody>\n",
       "</table>\n",
       "</div>"
      ],
      "text/plain": [
       "   id                    fio  work_id  status_id  skils_id phone\n",
       "0   0     Мастер и Маргарита        1          1         1  #670\n",
       "1   1          Белая гвардия        1          0         2  #540\n",
       "2   2                  Идиот        2          2         1  #460\n",
       "3   3      Братья Карамазовы        2          2         3  #799\n",
       "4   4                  Игрок        2          1         4  #480\n",
       "5   5  Стихотворения и поэмы        3          2         4  #650\n",
       "6   6         Черный человек        3          2         3  #570\n",
       "7   7                 Лирика        4          2         2  #518"
      ]
     },
     "execution_count": 10,
     "metadata": {},
     "output_type": "execute_result"
    }
   ],
   "source": [
    "fio = ['Мастер и Маргарита', \"Белая гвардия\", \"Идиот\", \"Братья Карамазовы\",\n",
    "         \"Игрок\", \"Стихотворения и поэмы\", 'Черный человек', 'Лирика']\n",
    "work_id = [1, 1, 2, 2, 2, 3, 3, 4]\n",
    "status_id = [1, 0, 2, 2, 1, 2, 2, 2]\n",
    "skils_id = [1, 2, 1, 3, 4, 4, 3, 2]\n",
    "phone = ['#670', '#540', '#460', '#799', '#480', '#650', '#570', '#518']\n",
    "\n",
    "job_df = pd.DataFrame({\n",
    "    'fio': fio,\n",
    "    'work_id': work_id,\n",
    "    'status_id': status_id,\n",
    "    'skils_id': skils_id,\n",
    "    'phone': phone\n",
    "})\n",
    "\n",
    "job_df.to_sql('job', sql, index_label=\"id\", if_exists='replace')\n",
    "pd.read_sql(\"SELECT * FROM job\", sql)"
   ]
  },
  {
   "cell_type": "markdown",
   "id": "caf3d92e",
   "metadata": {},
   "source": [
    "## Normal\n"
   ]
  },
  {
   "cell_type": "code",
   "execution_count": null,
   "id": "57f96d4e",
   "metadata": {},
   "outputs": [],
   "source": []
  },
  {
   "cell_type": "markdown",
   "id": "0eef5af7",
   "metadata": {},
   "source": [
    "## Hard"
   ]
  },
  {
   "cell_type": "code",
   "execution_count": null,
   "id": "c7c50f98",
   "metadata": {},
   "outputs": [],
   "source": []
  }
 ],
 "metadata": {
  "kernelspec": {
   "display_name": "Python 3 (ipykernel)",
   "language": "python",
   "name": "python3"
  },
  "language_info": {
   "codemirror_mode": {
    "name": "ipython",
    "version": 3
   },
   "file_extension": ".py",
   "mimetype": "text/x-python",
   "name": "python",
   "nbconvert_exporter": "python",
   "pygments_lexer": "ipython3",
   "version": "3.9.7"
  }
 },
 "nbformat": 4,
 "nbformat_minor": 5
}
