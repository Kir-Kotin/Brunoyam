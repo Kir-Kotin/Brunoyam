{
 "cells": [
  {
   "cell_type": "markdown",
   "id": "656d29a1",
   "metadata": {},
   "source": [
    "Домашнее задание\n",
    "Установить Anaconda и Git. Создать репозиторий на GitHub.\n",
    "\n",
    "Выложить в репозиторий на гитхабе (в ветку master) в отдельную папку (можно назвать ее 01-homework, например) ноутбук с решением хотя бы двух задач (систему со сложностью обговаривали на занятии)\n",
    "\n",
    "Easy\n",
    "Нужно написать функцию, которая на вход получает список из чисел, а на выходе дает список, где каждое число возведено в квадрат. Решать при помощи цикла.\n",
    "\n",
    "Попробовать на вход:\n",
    "\n",
    "# 1.\n",
    "    list(range(10))\n",
    "\n",
    "# 2.\n",
    "    list(range(100))\n",
    "\n",
    "# 3.\n",
    "    list()\n",
    "\n",
    "Normal\n",
    "Тоже самое, но на этот раз без цикла (смотрим раздел с функциями из ноутбука, который разбирали в классе). Сравнить скорость выполнения первого и второго варианта.\n",
    "\n",
    "Hard\n",
    "Написать функцию, которая на вход принимает список, а возвращает словарь со среднием, медианой и модой, например вот такой: {\"mean\": ..., \"median\": ..., \"mode\": ...}. На следующем занятии разберем как это сделать при помощи библиотек, а пока нужно реализовать просто по формулам.\n",
    "\n",
    "Пример:\n",
    "\n",
    "func([0, 1, 1, 10, 5, 4, 3])\n",
    "\n",
    "# Должно вернуть: {\"mean\": 3.4285, \"median\": 3, \"mode\": 1}"
   ]
  },
  {
   "cell_type": "markdown",
   "id": "9218d949",
   "metadata": {},
   "source": [
    "EASY"
   ]
  },
  {
   "cell_type": "code",
   "execution_count": 33,
   "id": "58cc7383",
   "metadata": {},
   "outputs": [
    {
     "name": "stdout",
     "output_type": "stream",
     "text": [
      "([0, 1, 2, 3, 4, 5, 6, 7, 8, 9],)\n",
      "[0, 1, 4, 9, 16, 25, 36, 49, 64, 81]\n"
     ]
    }
   ],
   "source": [
    "def square_list(*args):\n",
    "    sq_list=[]\n",
    "#   print(args)\n",
    "    for i in args[0]:\n",
    "        sq_list.append(i**2)\n",
    "    return sq_list\n",
    "\n",
    "temp = list(range(10))\n",
    "print(square_list(temp))"
   ]
  },
  {
   "cell_type": "markdown",
   "id": "ddeabe10",
   "metadata": {},
   "source": [
    "NORMAL"
   ]
  },
  {
   "cell_type": "code",
   "execution_count": 40,
   "id": "620061d0",
   "metadata": {},
   "outputs": [
    {
     "name": "stdout",
     "output_type": "stream",
     "text": [
      "([0, 1, 2, 3, 4, 5, 6, 7, 8, 9],)\n",
      "[0, 1, 4, 9, 16, 25, 36, 49, 64, 81]\n"
     ]
    }
   ],
   "source": [
    "def square_el(x):\n",
    "    return x**2\n",
    "\n",
    "def square_list(*args):\n",
    "#    print(args)\n",
    "    sq_list = list(map(square_el, args[0]))\n",
    "    return sq_list\n",
    "\n",
    "temp = list(range(10))\n",
    "print(square_list(temp))"
   ]
  },
  {
   "cell_type": "code",
   "execution_count": null,
   "id": "ff537148",
   "metadata": {},
   "outputs": [],
   "source": []
  }
 ],
 "metadata": {
  "kernelspec": {
   "display_name": "Python 3 (ipykernel)",
   "language": "python",
   "name": "python3"
  },
  "language_info": {
   "codemirror_mode": {
    "name": "ipython",
    "version": 3
   },
   "file_extension": ".py",
   "mimetype": "text/x-python",
   "name": "python",
   "nbconvert_exporter": "python",
   "pygments_lexer": "ipython3",
   "version": "3.9.7"
  }
 },
 "nbformat": 4,
 "nbformat_minor": 5
}
