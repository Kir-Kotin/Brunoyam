{
 "cells": [
  {
   "cell_type": "markdown",
   "id": "cfd5fd89",
   "metadata": {},
   "source": [
    "## Домашнее задание\n",
    "Установить Anaconda и Git. Создать репозиторий на GitHub.\n",
    "\n",
    "Выложить в репозиторий на гитхабе (в ветку master) в отдельную папку (можно назвать ее 01-homework, например) ноутбук с решением хотя бы двух задач (систему со сложностью обговаривали на занятии)\n",
    "\n",
    "Easy\n",
    "Нужно написать функцию, которая на вход получает список из чисел, а на выходе дает список, где каждое число возведено в квадрат. Решать при помощи цикла.\n",
    "\n",
    "Попробовать на вход:\n",
    "\n",
    "# 1.\n",
    "    list(range(10))\n",
    "\n",
    "# 2.\n",
    "    list(range(100))\n",
    "\n",
    "# 3.\n",
    "    list()\n",
    "\n",
    "Normal\n",
    "Тоже самое, но на этот раз без цикла (смотрим раздел с функциями из ноутбука, который разбирали в классе). Сравнить скорость выполнения первого и второго варианта.\n",
    "\n",
    "Hard\n",
    "Написать функцию, которая на вход принимает список, а возвращает словарь со среднием, медианой и модой, например вот такой: {\"mean\": ..., \"median\": ..., \"mode\": ...}. На следующем занятии разберем как это сделать при помощи библиотек, а пока нужно реализовать просто по формулам.\n",
    "\n",
    "Пример:\n",
    "\n",
    "func([0, 1, 1, 10, 5, 4, 3])\n",
    "\n",
    "# Должно вернуть: {\"mean\": 3.4285, \"median\": 3, \"mode\": 1}"
   ]
  },
  {
   "cell_type": "markdown",
   "id": "798a95fc",
   "metadata": {},
   "source": [
    "## EASY\n",
    "\n"
   ]
  },
  {
   "cell_type": "code",
   "execution_count": 33,
   "id": "b9a92015",
   "metadata": {},
   "outputs": [
    {
     "name": "stdout",
     "output_type": "stream",
     "text": [
      "([0, 1, 2, 3, 4, 5, 6, 7, 8, 9],)\n",
      "[0, 1, 4, 9, 16, 25, 36, 49, 64, 81]\n"
     ]
    }
   ],
   "source": [
    "def square_list(*args):\n",
    "    sq_list=[]\n",
    "#   print(args)\n",
    "    for i in args[0]:\n",
    "        sq_list.append(i**2)\n",
    "    return sq_list\n",
    "\n",
    "temp = list(range(10))\n",
    "print(square_list(temp))"
   ]
  },
  {
   "cell_type": "markdown",
   "id": "880bb008",
   "metadata": {},
   "source": [
    "## NORMAL"
   ]
  },
  {
   "cell_type": "code",
   "execution_count": 40,
   "id": "fde122ad",
   "metadata": {},
   "outputs": [
    {
     "name": "stdout",
     "output_type": "stream",
     "text": [
      "([0, 1, 2, 3, 4, 5, 6, 7, 8, 9],)\n",
      "[0, 1, 4, 9, 16, 25, 36, 49, 64, 81]\n"
     ]
    }
   ],
   "source": [
    "def square_el(x):\n",
    "    return x**2\n",
    "\n",
    "def square_list(*args):\n",
    "#    print(args)\n",
    "    sq_list = list(map(square_el, args[0]))\n",
    "    return sq_list\n",
    "\n",
    "temp = list(range(10))\n",
    "print(square_list(temp))"
   ]
  },
  {
   "cell_type": "markdown",
   "id": "ca56c215",
   "metadata": {},
   "source": [
    "## HARD"
   ]
  },
  {
   "cell_type": "code",
   "execution_count": 53,
   "id": "5bd1fbe8",
   "metadata": {},
   "outputs": [
    {
     "name": "stdout",
     "output_type": "stream",
     "text": [
      "Cреднее значение:  3.4286\n",
      "Медиана:  3\n",
      "Мода:  1\n",
      "{'mean': 3.4286, 'median': 3, 'mode': 1}\n"
     ]
    }
   ],
   "source": [
    "def three_functions(*args):\n",
    "    new_list = args[0]\n",
    "    #print(new_list)\n",
    "\n",
    "    #Среднее значение\n",
    "    mean = 0\n",
    "    for i in range(len(new_list)):\n",
    "        mean = mean + new_list[i]\n",
    "    mean = round(mean / len(new_list), 4)\n",
    "    print(\"Cреднее значение: \", mean)\n",
    "    \n",
    "    #Медиана\n",
    "    new_list.sort()\n",
    "    middle = len(new_list) / 2 - 1\n",
    "    if len(new_list) % 2 == 0:\n",
    "        mediana = int((new_list[int(middle)] + new_list[int(middle+1)]) / 2)\n",
    "    else:\n",
    "        mediana = int((new_list[int(middle + 1)]))\n",
    "    print(\"Медиана: \", mediana)\n",
    "\n",
    "    #Наиболее повторяющиеся\n",
    "    find_count = {}\n",
    "    \n",
    "    #считаем количество вхождений\n",
    "    for i in new_list:\n",
    "        if i in find_count:\n",
    "            find_count[i] += 1\n",
    "        else:\n",
    "            find_count[i] = 1\n",
    "    \n",
    "    #сортируем по ключу в порядке убывания\n",
    "    sorted_find_count = sorted(find_count.items(), key=lambda x: x[1], reverse = True)\n",
    "    moda = sorted_find_count[0][0]\n",
    "    print('Мода: ', moda)\n",
    "    \n",
    "    result = {\n",
    "        \"mean\" : mean,\n",
    "        \"median\" : mediana,\n",
    "        \"mode\" : moda\n",
    "    }\n",
    "    print(result)\n",
    "\n",
    "    \n",
    "three_functions([0,1,1,10,5,4,3])\n",
    "#three_functions([5,2,18,8,3])"
   ]
  },
  {
   "cell_type": "code",
   "execution_count": null,
   "id": "37e0098b",
   "metadata": {},
   "outputs": [],
   "source": []
  }
 ],
 "metadata": {
  "kernelspec": {
   "display_name": "Python 3 (ipykernel)",
   "language": "python",
   "name": "python3"
  },
  "language_info": {
   "codemirror_mode": {
    "name": "ipython",
    "version": 3
   },
   "file_extension": ".py",
   "mimetype": "text/x-python",
   "name": "python",
   "nbconvert_exporter": "python",
   "pygments_lexer": "ipython3",
   "version": "3.9.7"
  }
 },
 "nbformat": 4,
 "nbformat_minor": 5
}
